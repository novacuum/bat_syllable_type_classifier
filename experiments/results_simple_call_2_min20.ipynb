{
 "cells": [
  {
   "cell_type": "markdown",
   "metadata": {
    "pycharm": {
     "name": "#%% md\n"
    }
   },
   "source": [
    "# «SC2 min20» Report\n",
    "\n",
    "Report for the \"simple_call_2\" (simple call) dataset with config \"min20\" (all included labels have at least 20 samples).\n",
    "This test includes lstm, cnn 1d and 2d, each with image and hog features.\n",
    "\n",
    " - label extracting config: exact at human labeled starts and ends. Additionally right padded with silent audio parts to same length\n",
    " - hog config: ??\n",
    " - spectrogram config: sampling_rate=500000, x_pixels_per_sec=2000, window='Ham'\n",
    "\n",
    "K-Fold with K=8 for 310+91+124+153+132+467 samples, 8 bins of 11+11+11+11+11+11 and a remainder of 222+3+36+65+44+379, for each fold: 1079 training, 66 validation, and 132 testing samples\n",
    " - val-bins: 1\n",
    " - test-bins: 2"
   ]
  },
  {
   "cell_type": "code",
   "execution_count": null,
   "outputs": [],
   "source": [
    "import glob\n",
    "from IPython.display import display\n",
    "from engine.settings import BSC_ROOT_DATA_FOLDER\n",
    "from matplotlib import pyplot as plt\n",
    "from utils.report import create_sorted_result\n",
    "\n",
    "bin_size = 11\n",
    "labels = ['B2', 'B3', 'B4', 'VS', 'VSV', 'UPS']\n",
    "sorted_results = create_sorted_result('testing_sc2_min20')"
   ],
   "metadata": {
    "collapsed": false,
    "pycharm": {
     "name": "#%%\n"
    }
   }
  },
  {
   "cell_type": "markdown",
   "source": [
    "## Results of the audio transforms (spectrograms)\n",
    "\n",
    "20 randomly taken samples per label"
   ],
   "metadata": {
    "collapsed": false
   }
  },
  {
   "cell_type": "code",
   "execution_count": 1,
   "metadata": {
    "pycharm": {
     "name": "#%%\n"
    }
   },
   "outputs": [],
   "source": [
    "from utils.report import create_spectrogram_overview\n",
    "image_paths = glob.glob(str(BSC_ROOT_DATA_FOLDER / 'simple_call_2' / 'audio' / 'sr500000_xpps2000_h512_wHam') + '/*.png')\n",
    "create_spectrogram_overview(image_paths, labels, bin_size)"
   ]
  },
  {
   "cell_type": "markdown",
   "metadata": {},
   "source": [
    "## Overview about the models\n",
    "\n",
    "Kfold results over every model type"
   ]
  },
  {
   "cell_type": "code",
   "metadata": {
    "pycharm": {
     "name": "#%%\n"
    }
   },
   "source": [
    "from utils.report import create_model_overview\n",
    "create_model_overview(sorted_results)"
   ],
   "execution_count": null,
   "outputs": []
  },
  {
   "cell_type": "markdown",
   "metadata": {
    "pycharm": {
     "name": "#%% md\n"
    }
   },
   "source": [
    "## Statistics\n",
    "\n",
    "- Error-plots train + valid\n",
    "- Confusion matrix per report per result"
   ]
  },
  {
   "cell_type": "code",
   "metadata": {
    "pycharm": {
     "name": "#%%\n"
    }
   },
   "source": [
    "from utils.report import create_statistics\n",
    "create_statistics(sorted_results)"
   ],
   "execution_count": null,
   "outputs": []
  },
  {
   "cell_type": "markdown",
   "metadata": {
    "pycharm": {
     "name": "#%% md\n"
    }
   },
   "source": [
    "## identifies important pixels\n",
    "\n",
    "Layer-Wise Relevance Propagation with bounded deep taylor"
   ]
  },
  {
   "cell_type": "code",
   "execution_count": null,
   "outputs": [],
   "source": [
    "import os\n",
    "from utils.report import nn_cnn_2d_lrp\n",
    "\n",
    "for result in sorted_results:\n",
    "    recognizeBestAction = list(filter(lambda action: action['task'] == 'ParallelTask' and 'action' in action['props'] and action['props']['action'] == 'recognize_best_val_acc', result['pipeline']))\n",
    "    model_path = recognizeBestAction[0]['props']['kwargs']['model_path']\n",
    "    fig = nn_cnn_2d_lrp(os.path.dirname(model_path) + '/epoch_100.h5.json', 4)\n",
    "    display(fig)\n",
    "    fig.clear()\n",
    "    plt.close(fig)\n",
    "    break"
   ],
   "metadata": {
    "collapsed": false,
    "pycharm": {
     "name": "#%%\n"
    }
   }
  }
 ],
 "metadata": {
  "kernelspec": {
   "name": "python3",
   "language": "python",
   "display_name": "Python 3"
  },
  "language_info": {
   "codemirror_mode": {
    "name": "ipython",
    "version": 3
   },
   "file_extension": ".py",
   "mimetype": "text/x-python",
   "name": "python",
   "nbconvert_exporter": "python",
   "pygments_lexer": "ipython3",
   "version": "3.8.5"
  }
 },
 "nbformat": 4,
 "nbformat_minor": 1
}