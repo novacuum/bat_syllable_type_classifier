{
 "cells": [
  {
   "cell_type": "markdown",
   "metadata": {},
   "source": [
    "Try to extract label information"
   ]
  },
  {
   "cell_type": "code",
   "execution_count": 16,
   "metadata": {
    "pycharm": {
     "name": "#%%$\n"
    }
   },
   "outputs": [
    {
     "name": "stderr",
     "output_type": "stream",
     "text": [
      "D:\\developement\\python\\project\\bat_syllable_classifier\\src\\utils\\wav.py:205: WavFileWarning: Chunk 'TIME' skipped\n",
      "  warnings.warn(\"Chunk '\" + chunk_id.decode('utf-8') + \"' skipped\", WavFileWarning)\n",
      "D:\\developement\\python\\project\\bat_syllable_classifier\\src\\utils\\wav.py:205: WavFileWarning: Chunk 'bext' skipped\n",
      "  warnings.warn(\"Chunk '\" + chunk_id.decode('utf-8') + \"' skipped\", WavFileWarning)\n",
      "D:\\developement\\python\\project\\bat_syllable_classifier\\src\\utils\\wav.py:205: WavFileWarning: Chunk 'LBL ' skipped\n",
      "  warnings.warn(\"Chunk '\" + chunk_id.decode('utf-8') + \"' skipped\", WavFileWarning)\n"
     ]
    }
   ],
   "source": [
    "from wavinfo import WavInfoReader\n",
    "from utils.wav import read\n",
    "import struct\n",
    "\n",
    "path = '../data/audio/simpleCall/C_TR_Jt1_16_06_07_057.wav'\n",
    "info = WavInfoReader(path)\n",
    "info2 = read(path, True, True, True)\n",
    "encoding = 'utf-8'\n",
    "\n",
    "duration = info2[1].shape[0]/info2[0]\n",
    "duration2 = info.data.byte_count / info.fmt.sample_rate\n",
    "\n",
    "def sanatize_bytes(bytes):\n",
    "\t# first_null = next( (index for index, byte in enumerate(bytes) if byte == 0 ), None )\n",
    "\t# if first_null is not None:\n",
    "\t# \ttrimmed = bytes[:first_null]\n",
    "\t# else:\n",
    "\t# \ttrimmed = bytes\n",
    "\n",
    "\tdecoded = bytes.decode(encoding)\n",
    "\treturn decoded\n",
    "\n",
    "with open(path, 'rb') as f:\n",
    "\tlblChunk = info._find_chunk_data(b'LBL ', f)\n",
    "\n",
    "\ts_datas = sanatize_bytes(lblChunk)\n",
    "\tdata_list = s_datas.split(\"\\r\\n\")\n",
    "\tdata_list = [i.split(\"\\t\") for i in data_list]"
   ]
  },
  {
   "cell_type": "markdown",
   "metadata": {},
   "source": [
    "Calculate sets"
   ]
  },
  {
   "cell_type": "code",
   "execution_count": null,
   "metadata": {
    "pycharm": {
     "name": "#%%$\n"
    }
   },
   "outputs": [],
   "source": [
    "import pandas as pd\n",
    "from matplotlib import pyplot\n",
    "\n",
    "pyplot.style.use('dark_background')\n",
    "\n",
    "full_df = pd.read_excel(r'../data/tmp/Vermessene_Sil_Babbeln_2020.xlsx', sheet_name=None)\n",
    "\n",
    "df = pd.DataFrame()\n",
    "for name, sheet in full_df.items():\n",
    "    sheet['sheet'] = name\n",
    "    sheet = sheet.rename(columns=lambda x: x.split('\\n')[-1])\n",
    "    df = df.append(sheet[['syllable_type', 'duration']])\n",
    "\n",
    "df.reset_index(inplace=True, drop=True)\n",
    "\n",
    "stats = df.groupby(by='syllable_type').agg({'min', 'max', 'mean', 'median', 'std', 'count'})\n",
    "# droplevel(): removes the column level \"duration\" because of groupBy -> (duration, min), (duration, max) ....\n",
    "# reset_index() helps to create a realisation of the groupBy?\n",
    "stats = pd.DataFrame(stats.reset_index()).droplevel(0, axis=1)\n",
    "stats.rename(columns={ stats.columns[0]: \"syllable_type\" }, inplace = True)\n",
    "index = stats['syllable_type'].tolist()\n",
    "stats.sort_values(by='median', ascending=True, inplace=True)\n",
    "print(stats[['syllable_type', 'mean', 'median', 'std', 'min', 'max', 'count']])\n",
    "sorted_index = df.groupby(by='syllable_type').median().sort_values(by='duration').index.values\n",
    "sorted_index_map = {v:i for i,v in enumerate(sorted_index)}\n",
    "\n",
    "positions = list()\n",
    "for v in index:\n",
    "\tpositions.append(sorted_index_map[v])\n",
    "\n",
    "boxplot = df.boxplot(\n",
    "\tby='syllable_type'\n",
    "\t, figsize=(20.0, 10.0)\n",
    "\t, color=dict(boxes='r', whiskers='r', medians='r', caps='r')\n",
    "\t, positions=positions\n",
    ")\n",
    "pyplot.show()\n"
   ]
  },
  {
   "cell_type": "markdown",
   "metadata": {},
   "source": [
    "Visualize how the labels occur over a time"
   ]
  },
  {
   "cell_type": "code",
   "execution_count": null,
   "metadata": {
    "pycharm": {
     "name": "#%%$\n"
    }
   },
   "outputs": [],
   "source": [
    "from pandas import DataFrame\n",
    "from matplotlib import pyplot\n",
    "from engine.metadata import metadata_db\n",
    "import datetime\n",
    "\n",
    "pyplot.style.use('dark_background')\n",
    "\n",
    "numSeq = 0\n",
    "sequenceMeta = dict()\n",
    "mdb = metadata_db('metadata.json')\n",
    "minTime = 99999999999\n",
    "maxTime = 0\n",
    "\n",
    "for stem in mdb.db:\n",
    "\tentry = mdb.db[stem]\n",
    "\ttime = datetime.datetime.strptime(entry.date + ' ' + entry.time, '%Y-%m-%d %H:%M:%S').timestamp()\n",
    "\tminTime = min(minTime, time)\n",
    "\tmaxTime = max(maxTime, time)\n",
    "\n",
    "\tseqCounts = dict()\n",
    "\n",
    "\tfor peak in entry.peaks:\n",
    "\t\tnumSeq = numSeq + 1\n",
    "\t\ts = peak['sequence']\n",
    "\n",
    "\t\tif s not in seqCounts:\n",
    "\t\t\tseqCounts[s] = 0\n",
    "\t\tseqCounts[s] += 1\n",
    "\n",
    "\tsequenceMeta[time] = seqCounts\n",
    "\n",
    "sortedData = dict()\n",
    "for time in sorted(sequenceMeta):\n",
    "\tsortedData[datetime.datetime.fromtimestamp(time).strftime('%Y-%m-%d %H:%M:%S')] = sequenceMeta[time]\n",
    "\n",
    "data = DataFrame.from_dict(sortedData, orient='index')\n",
    "data = data.sort_index()\n",
    "data.plot(kind='bar', subplots=True, legend=False, ylim=(0,700), figsize=(10.0, 30.0))\n",
    "pyplot.show()\n"
   ]
  },
  {
   "cell_type": "code",
   "execution_count": 40,
   "metadata": {
    "pycharm": {
     "name": "#%%$\n"
    }
   },
   "outputs": [
    {
     "name": "stdout",
     "output_type": "stream",
     "text": [
      "Index(['file', 'syllable_type', 'duration'], dtype='object')\n",
      "  syllable_type      mean  median       std    min    max  count\n",
      "4           VSV  0.042810   0.044  0.006047  0.031  0.054     21\n",
      "2            B4  0.061198   0.059  0.015155  0.037  0.093     91\n",
      "3           UPS  0.065307   0.064  0.011412  0.038  0.106    461\n",
      "0            B2  0.079165   0.070  0.032175  0.033  0.220    310\n",
      "1            B3  0.074685   0.073  0.017777  0.047  0.141    124\n"
     ]
    },
    {
     "data": {
      "image/png": "[encoded data removed]",
      "text/plain": [
       "<Figure size 1440x720 with 1 Axes>"
      ]
     },
     "metadata": {
      "needs_background": "light"
     },
     "output_type": "display_data"
    }
   ],
   "source": [
    "import csv, ntpath\n",
    "from engine.settings import  FILES_FOLDER\n",
    "from engine.utils import list_files\n",
    "from utils.wav import read\n",
    "import pandas as pd\n",
    "from matplotlib import pyplot\n",
    "\n",
    "source = 'simple_call_1/audio'\n",
    "csv_file = '../data/simple_call_1/durations.csv'\n",
    "files = [FILES_FOLDER / f\"{source}/{f}\" for f in list_files(f\"{FILES_FOLDER}/{source}\")]\n",
    "\n",
    "with open(csv_file, 'w') as csvfile:\n",
    "    writer = csv.DictWriter(csvfile, delimiter=',', lineterminator='\\n', fieldnames=['file', 'syllable_type', 'duration'])\n",
    "    writer.writeheader()\n",
    "\n",
    "    for file in files:\n",
    "        info2 = read(file, True, True, True)\n",
    "        encoding = 'utf-8'\n",
    "        duration = info2[1].shape[0]/info2[0]\n",
    "        file_name = ntpath.basename(file)\n",
    "        syllable_type = file_name.split('_')[-1][0:-4]\n",
    "        if syllable_type in ['B2', 'B3', 'B4', 'VSV', 'UPS']:\n",
    "            writer.writerow({'file':file_name, 'syllable_type':syllable_type, 'duration':duration})\n",
    "\n",
    "\n",
    "df = pd.read_csv(csv_file, sep=',')\n",
    "print(df.columns)\n",
    "stats = df.groupby(by='syllable_type').agg({'min', 'max', 'mean', 'median', 'std', 'count'})\n",
    "# droplevel(): removes the column level \"duration\" because of groupBy -> (duration, min), (duration, max) ....\n",
    "# reset_index() helps to create a realisation of the groupBy?\n",
    "stats = pd.DataFrame(stats.reset_index()).droplevel(0, axis=1)\n",
    "stats.rename(columns={ stats.columns[0]: \"syllable_type\" }, inplace = True)\n",
    "index = stats['syllable_type'].tolist()\n",
    "stats.sort_values(by='median', ascending=True, inplace=True)\n",
    "print(stats[['syllable_type', 'mean', 'median', 'std', 'min', 'max', 'count']])\n",
    "sorted_index = df.groupby(by='syllable_type').median().sort_values(by='duration').index.values\n",
    "sorted_index_map = {v:i for i,v in enumerate(sorted_index)}\n",
    "\n",
    "positions = list()\n",
    "for v in index:\n",
    "\tpositions.append(sorted_index_map[v])\n",
    "\n",
    "boxplot = df.boxplot(\n",
    "\tby='syllable_type'\n",
    "\t, figsize=(20.0, 10.0)\n",
    "\t, color=dict(boxes='r', whiskers='r', medians='r', caps='r')\n",
    "\t, positions=positions\n",
    ")\n",
    "pyplot.show()"
   ]
  }
 ],
 "metadata": {
  "kernelspec": {
   "display_name": "Python 3",
   "language": "python",
   "name": "python3"
  },
  "language_info": {
   "codemirror_mode": {
    "name": "ipython",
    "version": 3
   },
   "file_extension": ".py",
   "mimetype": "text/x-python",
   "name": "python",
   "nbconvert_exporter": "python",
   "pygments_lexer": "ipython3",
   "version": "3.7.7"
  }
 },
 "nbformat": 4,
 "nbformat_minor": 1
}