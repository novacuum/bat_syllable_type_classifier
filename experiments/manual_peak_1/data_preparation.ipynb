{
 "cells": [
  {
   "cell_type": "code",
   "execution_count": 3,
   "outputs": [
    {
     "name": "stdout",
     "output_type": "stream",
     "text": [
      "Loaded audio tracks from audio\n",
      "Already processed: manual_peak_1\\audio\\2015-06-08_ID8_0026_peak140_OUT.wav, manual_peak_1\\audio\\2015-06-08_ID8_0026_peak1714_VS.wav, manual_peak_1\\audio\\2015-06-08_ID8_0026_peak1784_VSV.wav, ... (11989 others)\n"
     ]
    }
   ],
   "source": [
    "import datetime, json\n",
    "from engine.helpers import write_file\n",
    "from engine.audio import load_audio\n",
    "from engine.metadata import metadata_db\n",
    "from engine.settings import BSC_MS_DATETIME_FORMAT\n",
    "\n",
    "mdb = metadata_db('metadata.json')\n",
    "load_audio(mdb, 'audio').split_audio_into_peaks('manual_peak_1', .2, .2).run()\n",
    "\n",
    "newMdb = dict()\n",
    "for stem in mdb.db:\n",
    "\tentry = mdb.db[stem]\n",
    "\ttime = datetime.datetime.strptime(entry.date + ' ' + entry.time, '%Y-%m-%d %H:%M:%S').timestamp()\n",
    "\n",
    "\tfor peak in entry.peaks:\n",
    "\t\ttimestamp = peak['timestamp']\n",
    "\t\tsequence = peak['sequence']\n",
    "\t\tpeakTime = time + timestamp\n",
    "\n",
    "\t\tnewEntry = dict()\n",
    "\t\tnewEntry['datetime'] = datetime.datetime.fromtimestamp(peakTime).strftime(BSC_MS_DATETIME_FORMAT)\n",
    "\t\tnewEntry['timestamp'] = peakTime\n",
    "\t\tnewEntry['peaks'] = [0.2]\n",
    "\t\tnewEntry['label'] = sequence\n",
    "\t\tnewEntry['individual'] = entry.individual\n",
    "\t\tnewEntry['colony'] = entry.colony\n",
    "\t\tnewEntry['id'] = entry.id\n",
    "\n",
    "\t\tnewEntry['duration'] = 0.4\n",
    "\n",
    "\t\tnewMdb[f'{stem}_peak{timestamp * 1000:.0f}_{sequence}'] = newEntry\n",
    "\n",
    "\n",
    "write_file(f\"../data/manual_peak_1/metadata.json\", json.dumps(newMdb, indent=2))"
   ],
   "metadata": {
    "collapsed": false,
    "pycharm": {
     "name": "#%%\n"
    }
   }
  },
  {
   "cell_type": "markdown",
   "source": [
    "create train & validation set for the min20 set"
   ],
   "metadata": {
    "collapsed": false
   }
  },
  {
   "cell_type": "code",
   "execution_count": 1,
   "outputs": [
    {
     "name": "stdout",
     "output_type": "stream",
     "text": [
      "Log for interactive will be written in log-2020-05-07_14-51-18\n"
     ]
    }
   ],
   "source": [
    "from utils.dataset import create_mp1_data_set\n",
    "create_mp1_data_set('min20', lambda elem: elem[1] > 20)"
   ],
   "metadata": {
    "collapsed": false,
    "pycharm": {
     "name": "#%%\n"
    }
   }
  },
  {
   "cell_type": "markdown",
   "source": [
    "create train & validation set for the min100 set"
   ],
   "metadata": {
    "collapsed": false
   }
  },
  {
   "cell_type": "code",
   "execution_count": 1,
   "outputs": [
    {
     "name": "stdout",
     "output_type": "stream",
     "text": [
      "Log for interactive will be written in log-2020-04-30_15-45-41\n"
     ]
    }
   ],
   "source": [
    "from utils.dataset import create_mp1_data_set\n",
    "create_mp1_data_set('min100', lambda elem: elem[1] > 100)\n"
   ],
   "metadata": {
    "collapsed": false,
    "pycharm": {
     "name": "#%%\n"
    }
   }
  },
  {
   "cell_type": "markdown",
   "source": [
    "search all labeld wav files and join them with Vermessene_Sil_Babbeln_2020.xlsx"
   ],
   "metadata": {
    "collapsed": false
   }
  },
  {
   "cell_type": "code",
   "execution_count": 4,
   "outputs": [
    {
     "data": {
      "text/plain": "    syllable_type                                         file_name  \\\n0              D1                   BCI_SL1_Jt1unbe_15_06_15_017_D1   \n1              D1                   BCI_SL1_Jt1unbe_15_06_15_027_D1   \n2              D1                   BCI_SL1_Jt1unbe_15_06_08_029_D1   \n3              D1      BCI_SL1_Rblau-Lweisshellblau_15_06_18_008_D1   \n4              D1  BCI_SL1_Rblau-Lweisshellblau_15_06_18_008_D1_(2)   \n..            ...                                               ...   \n247            C1                                                22   \n248            C1                                                22   \n249            C2                                                81   \n250            C2                                                51   \n251            C2                                                51   \n\n                                                  path  \n0    C:\\OneDrive\\un...  \n1    C:\\OneDrive\\un...  \n2    C:\\OneDrive\\un...  \n3    C:\\OneDrive\\un...  \n4    C:\\OneDrive\\un...  \n..                                                 ...  \n247                                  not found: 22.wav  \n248                                  not found: 22.wav  \n249                                  not found: 81.wav  \n250                                  not found: 51.wav  \n251                                  not found: 51.wav  \n\n[596 rows x 3 columns]",
      "text/html": "<div>\n<style scoped>\n    .dataframe tbody tr th:only-of-type {\n        vertical-align: middle;\n    }\n\n    .dataframe tbody tr th {\n        vertical-align: top;\n    }\n\n    .dataframe thead th {\n        text-align: right;\n    }\n</style>\n<table border=\"1\" class=\"dataframe\">\n  <thead>\n    <tr style=\"text-align: right;\">\n      <th></th>\n      <th>syllable_type</th>\n      <th>file_name</th>\n      <th>path</th>\n    </tr>\n  </thead>\n  <tbody>\n    <tr>\n      <th>0</th>\n      <td>D1</td>\n      <td>BCI_SL1_Jt1unbe_15_06_15_017_D1</td>\n      <td>C:\\OneDrive\\un...</td>\n    </tr>\n    <tr>\n      <th>1</th>\n      <td>D1</td>\n      <td>BCI_SL1_Jt1unbe_15_06_15_027_D1</td>\n      <td>C:\\OneDrive\\un...</td>\n    </tr>\n    <tr>\n      <th>2</th>\n      <td>D1</td>\n      <td>BCI_SL1_Jt1unbe_15_06_08_029_D1</td>\n      <td>C:\\OneDrive\\un...</td>\n    </tr>\n    <tr>\n      <th>3</th>\n      <td>D1</td>\n      <td>BCI_SL1_Rblau-Lweisshellblau_15_06_18_008_D1</td>\n      <td>C:\\OneDrive\\un...</td>\n    </tr>\n    <tr>\n      <th>4</th>\n      <td>D1</td>\n      <td>BCI_SL1_Rblau-Lweisshellblau_15_06_18_008_D1_(2)</td>\n      <td>C:\\OneDrive\\un...</td>\n    </tr>\n    <tr>\n      <th>...</th>\n      <td>...</td>\n      <td>...</td>\n      <td>...</td>\n    </tr>\n    <tr>\n      <th>247</th>\n      <td>C1</td>\n      <td>22</td>\n      <td>not found: 22.wav</td>\n    </tr>\n    <tr>\n      <th>248</th>\n      <td>C1</td>\n      <td>22</td>\n      <td>not found: 22.wav</td>\n    </tr>\n    <tr>\n      <th>249</th>\n      <td>C2</td>\n      <td>81</td>\n      <td>not found: 81.wav</td>\n    </tr>\n    <tr>\n      <th>250</th>\n      <td>C2</td>\n      <td>51</td>\n      <td>not found: 51.wav</td>\n    </tr>\n    <tr>\n      <th>251</th>\n      <td>C2</td>\n      <td>51</td>\n      <td>not found: 51.wav</td>\n    </tr>\n  </tbody>\n</table>\n<p>596 rows × 3 columns</p>\n</div>"
     },
     "execution_count": 4,
     "metadata": {},
     "output_type": "execute_result"
    }
   ],
   "source": [
    "import json, itertools, glob\n",
    "import pandas as pd\n",
    "from pathlib import Path\n",
    "from os.path import basename\n",
    "from collections import defaultdict\n",
    "\n",
    "\n",
    "wav_index = defaultdict(list)\n",
    "for file in Path(r'C:\\OneDrive\\unibe\\master\\masterarbeit\\data\\evalSyllables').glob(\"**/*.wav\"):\n",
    "\tkey = basename(file)\n",
    "\twav_index[key].append(file)\n",
    "\n",
    "\tif len(wav_index[key]) > 1:\n",
    "\t\tprint(wav_index[key])\n",
    "\n",
    "full_df = pd.read_excel(r'../data/tmp/Vermessene_Sil_Babbeln_2020.xlsx', sheet_name=None)\n",
    "\n",
    "df = pd.DataFrame()\n",
    "for name, sheet in full_df.items():\n",
    "    sheet['sheet'] = name\n",
    "    sheet = sheet.rename(columns=lambda x: x.split('\\n')[-1])\n",
    "    df = df.append(sheet[['syllable_type', 'file_name']])\n",
    "\n",
    "source_list = list()\n",
    "for index, row in df.iterrows():\n",
    "\tfilename = str(row['file_name']) + '.wav'\n",
    "\tif filename in wav_index:\n",
    "\t\tsource_list.append(wav_index[filename][0])\n",
    "\telse:\n",
    "\t\tsource_list.append('not found: ' + filename)\n",
    "\n",
    "df.insert(2, \"path\", source_list, True)\n",
    "\n",
    "\n",
    "write_file(f\"../data/manual_peak_1/metadata.json\", json.dumps(newMdb, indent=2))"
   ],
   "metadata": {
    "collapsed": false,
    "pycharm": {
     "name": "#%%\n"
    }
   }
  }
 ],
 "metadata": {
  "kernelspec": {
   "name": "python3",
   "language": "python",
   "display_name": "Python 3"
  },
  "language_info": {
   "codemirror_mode": {
    "name": "ipython",
    "version": 2
   },
   "file_extension": ".py",
   "mimetype": "text/x-python",
   "name": "python",
   "nbconvert_exporter": "python",
   "pygments_lexer": "ipython2",
   "version": "2.7.6"
  }
 },
 "nbformat": 4,
 "nbformat_minor": 0
}
