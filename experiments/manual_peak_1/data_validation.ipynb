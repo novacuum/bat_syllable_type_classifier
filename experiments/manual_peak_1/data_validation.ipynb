{
 "cells": [
  {
   "cell_type": "code",
   "execution_count": 13,
   "metadata": {
    "pycharm": {
     "is_executing": false,
     "name": "#%%\n"
    }
   },
   "outputs": [
    {
     "name": "stdout",
     "output_type": "stream",
     "text": [
      "Log for interactive will be written in log-2019-11-16_11-32-22\n"
     ]
    }
   ],
   "source": [
    "import os\n",
    "import csv\n",
    "from engine.files.files import File\n",
    "from engine.audio import extract_peak\n",
    "from engine.spectrograms import create_spectrogram\n",
    "audioFile = \"../data/audio/2015-06-08_ID8_0026.wav\"\n",
    "syllableFile = \"../data/syllable/2015-06-08_ID8_0026.csv\"\n",
    "with open(syllableFile) as csv_file:\n",
    "\tsyllableData = list(csv.reader(csv_file, delimiter=',', lineterminator=\"\\n\"))\n",
    "\n",
    "syllableData = syllableData[1:]\n",
    "audioData = File(audioFile)\n",
    "destFile = File('../tmp/test.wav')\n",
    "# os.mkdir(destFile.folder)\n",
    "for line in syllableData:\n",
    "\textract_peak(audioData.p, destFile.p, float(line[0]), .02, .02, 43.4)\n",
    "\tcreate_spectrogram(destFile.p, '../tmp/test.jpeg', sampling_rate=500000, x_pixels_per_sec=2000, window='Ham')\n",
    "\tbreak\n",
    "\n"
   ]
  },
  {
   "cell_type": "markdown",
   "metadata": {},
   "source": [
    "create metadata.json from the metdata csv (generated earlier with R). Include the peaks and do some typing on some values."
   ]
  },
  {
   "cell_type": "code",
   "execution_count": 18,
   "metadata": {
    "pycharm": {
     "is_executing": false,
     "name": "#%%\n"
    }
   },
   "outputs": [],
   "source": [
    "import csv\n",
    "import json\n",
    "from engine.helpers import write_file\n",
    "from engine.files.files import File\n",
    "with open('../data/metadata.csv') as csv_file:\n",
    "\tmeta = list(csv.reader(csv_file, delimiter=',', lineterminator=\"\\n\"))\n",
    "\n",
    "jsonData = dict()\n",
    "header = meta[0]\n",
    "meta = meta[1:]\n",
    "for entry in meta:\n",
    "\tjsonEntry = dict((header[i], value) for i, value in enumerate(entry))\n",
    "\tjsonEntry['duration'] = float(jsonEntry['wav_length'])\n",
    "\tdel jsonEntry['wav_length']\n",
    "\tjsonEntry['individual'] = int(jsonEntry['id'])\n",
    "\tjsonEntry['label'] = \"A\" + str(len(jsonData) + 1)\n",
    "\n",
    "\twith open(f'../data/' + jsonEntry['syllable']) as csv_file:\n",
    "\t\tpeaks = list(csv.reader(csv_file, delimiter=',', lineterminator=\"\\n\"))\n",
    "\n",
    "\tpeaksHeader = peaks[0]\n",
    "\tpeaks = peaks[1:]\n",
    "\tjsonPeaks = []\n",
    "\tfor peak in peaks:\n",
    "\t\tjsonPeak = dict((peaksHeader[i], value) for i, value in enumerate(peak))\n",
    "\t\tjsonPeak['timestamp'] = float(jsonPeak['timestamp'])\n",
    "\t\tjsonPeak['sequence'] = jsonPeak['sequence'].strip().upper()\n",
    "\t\tif jsonPeak['sequence'] in sequencesSorted:\n",
    "\t\t\tjsonPeaks.append(jsonPeak)\n",
    "\n",
    "\n",
    "\tjsonEntry['peaks'] = jsonPeaks\n",
    "\tjsonData[File(entry[7]).p.stem] = jsonEntry\n",
    "\n",
    "write_file(f\"../data/metadata.json\", json.dumps(jsonData, indent=2))\n"
   ]
  },
  {
   "cell_type": "code",
   "execution_count": 5,
   "metadata": {
    "pycharm": {
     "name": "#%%\n"
    }
   },
   "outputs": [],
   "source": [
    "from engine.metadata import metadata_db\n",
    "mdb = metadata_db('metadata.json')\n",
    "sequences = dict()\n",
    "numSeq = 0\n",
    "for stem in mdb.db:\n",
    "\tentry = mdb.db[stem]\n",
    "\tfor peak in entry.peaks:\n",
    "\t\tnumSeq = numSeq+1\n",
    "\t\ts = peak['sequence']\n",
    "\t\tif s in sequences:\n",
    "\t\t\tsequences[s] += 1\n",
    "\t\telse:\n",
    "\t\t\tsequences[s] = 1"
   ]
  },
  {
   "cell_type": "code",
   "execution_count": 17,
   "metadata": {
    "pycharm": {
     "is_executing": false,
     "name": "#%%\n"
    }
   },
   "outputs": [],
   "source": [
    "sequencesSorted = sorted(dict(filter(lambda elem: elem[1] > 20, sequences.items())))"
   ]
  },
  {
   "cell_type": "code",
   "execution_count": null,
   "metadata": {
    "pycharm": {
     "is_executing": true,
     "name": "#%%\n"
    }
   },
   "outputs": [
    {
     "name": "stdout",
     "output_type": "stream",
     "text": [
      "Log for interactive will be written in log-2019-11-14_11-52-11\n"
     ]
    }
   ],
   "source": [
    "from engine.files.files import File\n",
    "from engine.spectrograms import create_spectrogram\n",
    "from engine.metadata import metadata_db\n",
    "\n",
    "mdb = metadata_db('metadata.json')\n",
    "for stem in mdb.db:\n",
    "\tentry = mdb.db[stem]\n",
    "\taudioFile = File(f'../data/{entry.audio}')\n",
    "\tcreate_spectrogram(audioFile.p, f'../tmp/{stem}.jpeg', sampling_rate=500000, x_pixels_per_sec=1000, window='Ham', axes=True)\n",
    "\n"
   ]
  },
  {
   "cell_type": "markdown",
   "metadata": {},
   "source": [
    "create peak metadata, based on that create datasets\n"
   ]
  },
  {
   "cell_type": "code",
   "execution_count": 19,
   "metadata": {
    "pycharm": {
     "is_executing": false,
     "name": "#%%\n"
    }
   },
   "outputs": [],
   "source": [
    "from engine.metadata import metadata_db\n",
    "import csv\n",
    "import datetime\n",
    "numSeq = 0\n",
    "phaseSepTime = {'ID8': datetime.date(2015, 6, 28), 'ID10': datetime.date(2015, 7, 10)}\n",
    "sequenceMeta = dict()\n",
    "mdb = metadata_db('metadata.json')\n",
    "for stem in mdb.db:\n",
    "\tentry = mdb.db[stem]\n",
    "\tdate = datetime.datetime.strptime(entry.date, '%Y-%m-%d').date()\n",
    "\tid = 'ID' + entry.id\n",
    "\n",
    "\tfor peak in entry.peaks:\n",
    "\t\tnumSeq = numSeq+1\n",
    "\t\ts = peak['sequence']\n",
    "\n",
    "\t\tif s not in sequenceMeta:\n",
    "\t\t\tsequenceMeta[s] = {'count':0, 'phase1':0, 'phase2':0}\n",
    "\n",
    "\t\tsequenceMeta[s][\"count\"] += 1\n",
    "\t\tif date < phaseSepTime[id]:\n",
    "\t\t\tsequenceMeta[s][\"phase1\"] += 1\n",
    "\t\tif date > phaseSepTime[id]:\n",
    "\t\t\tsequenceMeta[s][\"phase2\"] += 1\n",
    "\n",
    "\n",
    "with open('../data/peaks.csv', 'w') as csvfile:\n",
    "\twriter = csv.DictWriter(csvfile, delimiter=',', lineterminator='\\n', fieldnames=['sequence', 'count', 'phase1', 'phase2'])\n",
    "\twriter.writeheader()\n",
    "\tfor key in sequenceMeta:\n",
    "\t\twriter.writerow({'sequence':key, **sequenceMeta[key]})\n",
    "\n"
   ]
  },
  {
   "cell_type": "code",
   "execution_count": 8,
   "outputs": [],
   "source": [
    "import math, datetime\n",
    "from collections import defaultdict\n",
    "from engine.metadata import metadata_db, filter_peaks\n",
    "mdb = metadata_db('metadata.json')\n",
    "min_occurrence = 20\n",
    "validation_size = 4\n",
    "\n",
    "sequence_count = defaultdict(lambda: 0)\n",
    "\n",
    "for stem in mdb.db:\n",
    "\tentry = mdb.db[stem]\n",
    "\tfor peak in entry.peaks:\n",
    "\t\tsequence_count[peak['sequence']] += 1\n",
    "\n",
    "filtered_sequences = dict(filter(lambda elem: elem[1] > min_occurrence, sequence_count.items())).keys()\n",
    "sequences = defaultdict(list)\n",
    "validation_sequences = defaultdict(list)\n",
    "\n",
    "for stem in mdb.db:\n",
    "\tentry = mdb.db[stem]\n",
    "\ttime = datetime.datetime.strptime(entry.date + ' ' + entry.time, '%Y-%m-%d %H:%M:%S').timestamp()\n",
    "\tpeaks = filter(lambda peak: peak['sequence'] in filtered_sequences, entry.peaks)\n",
    "\tentry.props['peaks'] = peaks\n",
    "\tfor peak in peaks:\n",
    "\t\tsequences[peak['sequence']].append((peak['timestamp'] + time, entry.label))\n",
    "\n",
    "for key in sequences:\n",
    "\tsequence_times = sequences[key]\n",
    "\tsequence_times.sort()\n",
    "\tlength = len(sequence_times)\n",
    "\tnth = math.floor(length / validation_size)\n",
    "\toffset = (length % validation_size) + math.floor(nth / 2)\n",
    "\tvalidation_sequences[key] = sequence_times[offset::nth]\n",
    "\n",
    "for stem in mdb.db:\n",
    "\tentry = mdb.db[stem]\n",
    "\ttime = datetime.datetime.strptime(entry.date + ' ' + entry.time, '%Y-%m-%d %H:%M:%S').timestamp()\n",
    "\tentry.props['peaks'] = filter(lambda peak: (peak['timestamp'] + time, entry.label) in validation_sequences[peak['sequence']], entry.peaks)\n",
    "\n"
   ],
   "metadata": {
    "collapsed": false,
    "pycharm": {
     "name": "#%%\n",
     "is_executing": false
    }
   }
  },
  {
   "cell_type": "code",
   "execution_count": null,
   "outputs": [],
   "source": [
    "import os\n",
    "import csv\n",
    "from engine.files.files import File\n",
    "from engine.audio import extract_peak\n",
    "from engine.spectrograms import create_spectrogram\n",
    "audioFile = \"../data/audio/simpleCall/B2_C_B_Jt1_16_07_06_042.wav\"\n",
    "\n",
    "audioData = File(audioFile)\n",
    "destFile = File('../tmp/test.wav')\n",
    "# os.mkdir(destFile.folder)\n",
    "for line in syllableData:\n",
    "\textract_peak(audioData.p, destFile.p, float(line[0]), .02, .02, 43.4)\n",
    "\tcreate_spectrogram(destFile.p, '../tmp/test.jpeg', sampling_rate=500000, x_pixels_per_sec=2000, window='Ham')\n",
    "\tbreak\n"
   ],
   "metadata": {
    "collapsed": false,
    "pycharm": {
     "name": "#%%\n"
    }
   }
  }
 ],
 "metadata": {
  "kernelspec": {
   "display_name": "Python 3",
   "language": "python",
   "name": "python3"
  },
  "language_info": {
   "codemirror_mode": {
    "name": "ipython",
    "version": 3
   },
   "file_extension": ".py",
   "mimetype": "text/x-python",
   "name": "python",
   "nbconvert_exporter": "python",
   "pygments_lexer": "ipython3",
   "version": "3.7.5"
  }
 },
 "nbformat": 4,
 "nbformat_minor": 1
}