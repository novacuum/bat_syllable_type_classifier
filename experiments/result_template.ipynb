{
 "cells": [
  {
   "cell_type": "code",
   "execution_count": null,
   "outputs": [],
   "source": [
    "result_name = 'testing_scs_all'"
   ],
   "metadata": {
    "collapsed": false,
    "pycharm": {
     "name": "#%%\n"
    }
   }
  },
  {
   "cell_type": "code",
   "execution_count": null,
   "outputs": [],
   "source": [
    "from IPython.display import display\n",
    "from matplotlib import pyplot as plt\n",
    "from utils.report import create_sorted_result_set, create_info_cell\n",
    "from model.report import ReportResult\n",
    "\n",
    "sorted_results = create_sorted_result_set(result_name)\n",
    "result_model = ReportResult(sorted_results[0], result_name)\n",
    "create_info_cell(result_model, result_name)\n"
   ],
   "metadata": {
    "collapsed": false,
    "pycharm": {
     "name": "#%%\n"
    }
   }
  },
  {
   "cell_type": "markdown",
   "source": [
    "## Results of the audio transforms (spectrograms)\n",
    "\n",
    "20 randomly taken samples per label"
   ],
   "metadata": {
    "collapsed": false
   }
  },
  {
   "cell_type": "code",
   "execution_count": null,
   "outputs": [],
   "source": [
    "from utils.report import create_spectrogram_overview\n",
    "image_paths = list(map(lambda f: f.path(), result_model.spectrogram_images.files))\n",
    "create_spectrogram_overview(image_paths, result_model.labels, result_model.bin_size)"
   ],
   "metadata": {
    "collapsed": false,
    "pycharm": {
     "name": "#%%\n"
    }
   }
  },
  {
   "cell_type": "markdown",
   "source": [
    "## Overview about the models\n",
    "\n",
    "Kfold results over every model type"
   ],
   "metadata": {
    "collapsed": false
   }
  },
  {
   "cell_type": "code",
   "execution_count": null,
   "outputs": [],
   "source": [
    "from utils.report import create_model_overview\n",
    "create_model_overview(sorted_results)"
   ],
   "metadata": {
    "collapsed": false,
    "pycharm": {
     "name": "#%%\n"
    }
   }
  },
  {
   "cell_type": "markdown",
   "source": [
    "## Statistics\n",
    "\n",
    "- Error-plots train + valid\n",
    "- Confusion matrix per report per result"
   ],
   "metadata": {
    "collapsed": false
   }
  },
  {
   "cell_type": "code",
   "execution_count": null,
   "outputs": [],
   "source": [
    "from utils.report import create_statistics\n",
    "create_statistics(sorted_results, result_model)"
   ],
   "metadata": {
    "collapsed": false,
    "pycharm": {
     "name": "#%%\n"
    }
   }
  },
  {
   "cell_type": "markdown",
   "source": [
    "## identifies important pixels\n",
    "\n",
    "Layer-Wise Relevance Propagation with bounded deep taylor"
   ],
   "metadata": {
    "collapsed": false
   }
  },
  {
   "cell_type": "code",
   "execution_count": null,
   "outputs": [],
   "source": [
    "from utils.report import nn_cnn_2d_lrp_by_pipeline\n",
    "\n",
    "fig = nn_cnn_2d_lrp_by_pipeline(result_model.model)\n",
    "display(fig)\n",
    "fig.clear()\n",
    "plt.close(fig)\n"
   ],
   "metadata": {
    "collapsed": false,
    "pycharm": {
     "name": "#%%\n"
    }
   }
  }
 ],
 "metadata": {
  "kernelspec": {
   "display_name": "Python 3",
   "language": "python",
   "name": "python3"
  },
  "language_info": {
   "codemirror_mode": {
    "name": "ipython",
    "version": 3
   },
   "file_extension": ".py",
   "mimetype": "text/x-python",
   "name": "python",
   "nbconvert_exporter": "python",
   "pygments_lexer": "ipython3",
   "version": "3.8.5"
  }
 },
 "nbformat": 4,
 "nbformat_minor": 1
}