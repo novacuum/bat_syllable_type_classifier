{
 "cells": [
  {
   "cell_type": "markdown",
   "source": [
    "find outlier from B2"
   ],
   "metadata": {
    "collapsed": false
   }
  },
  {
   "cell_type": "code",
   "execution_count": 1,
   "metadata": {
    "collapsed": true
   },
   "outputs": [
    {
     "name": "stdout",
     "output_type": "stream",
     "text": [
      "Log for interactive will be written in log-2020-12-19_11-51-18\n",
      "Loaded audio tracks from simple_call_test/audio\n",
      "['C_TR_Jt1_16_06_07_057_115927.90_B2']\n",
      "['C_TR_Jt1_16_06_07_057_115927.90_B2']\n"
     ]
    },
    {
     "data": {
      "text/plain": "[115.9279]"
     },
     "execution_count": 1,
     "metadata": {},
     "output_type": "execute_result"
    }
   ],
   "source": [
    "from utils.experiment import load_audio_and_db\n",
    "ppl = load_audio_and_db('simple_call_test').extract_label_parts(False)\n",
    "\n",
    "print([file.p.stem for file in ppl.files if file.task_src.end - file.task_src.start > .2])\n",
    "print([file.p.stem for file in ppl.files if file.metadata.duration > .2])\n",
    "[file.metadata.start for file in ppl.files if file.metadata.duration > .2]\n",
    "\n"
   ]
  }
 ],
 "metadata": {
  "kernelspec": {
   "display_name": "Python 3",
   "language": "python",
   "name": "python3"
  },
  "language_info": {
   "codemirror_mode": {
    "name": "ipython",
    "version": 2
   },
   "file_extension": ".py",
   "mimetype": "text/x-python",
   "name": "python",
   "nbconvert_exporter": "python",
   "pygments_lexer": "ipython2",
   "version": "2.7.6"
  }
 },
 "nbformat": 4,
 "nbformat_minor": 0
}