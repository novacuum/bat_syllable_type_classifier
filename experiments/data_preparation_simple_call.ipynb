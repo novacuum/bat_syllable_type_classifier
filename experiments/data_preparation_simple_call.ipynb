{
 "cells": [
  {
   "cell_type": "markdown",
   "metadata": {
    "collapsed": true,
    "pycharm": {
     "name": "#%% md\n"
    }
   },
   "source": [
    "create initial metadata file"
   ]
  },
  {
   "cell_type": "code",
   "execution_count": 26,
   "outputs": [
    {
     "name": "stdout",
     "output_type": "stream",
     "text": [
      "['                                                               ', '1.684022e-002\\x00\\t6.335211e-002\\x00\\tB3                             \\tM', '']\n",
      "['                                                               ', '7.765001e-002\\x00\\t1.345640e-001\\x00\\tES                             \\tM', '4.889860e-001\\x00\\t5.492360e-001\\x00\\tES                             \\tM', '4']\n",
      "['                                                               ', '6.475067e-002\\x00\\t7.804871e-002\\x00\\tVSV                            \\tM', '']\n",
      "['                                                               ', '4.093170e-002\\x00\\t5.523682e-002\\x00\\tVSV                            \\tM', '9.563446e-002\\x00\\t1.104355e-001\\x00\\tVSV                            \\tM', '1']\n",
      "['                                                               ', '2.026367e-002\\x00\\t3.306580e-002\\x00\\tVSV                            \\tM', '']\n",
      "['                                                               ', '3.454400e-001\\x00\\t3.569600e-001\\x00\\t8                              \\tM', '4.623940e-001\\x00\\t4.730181e-001\\x00\\t11                             \\tM', '4.606600e-001\\x00\\t4.730120e-001\\x00\\tVSV                            \\tM', '3.455280e-001\\x00\\t3.571080e-001\\x00\\tVSV                            \\tM', '1']\n",
      "['                                                               ', '1.794586e-001\\x00\\t1.919556e-001\\x00\\tVSV                            \\tM', '1.255798e-002\\x00\\t2.746582e-002\\x00\\tVSV                            \\tM', '9.385681e-002\\x00\\t1.118622e-001\\x00\\tVSV                            \\tM', '']\n"
     ]
    }
   ],
   "source": [
    "import glob, json\n",
    "from wavinfo import WavInfoReader\n",
    "from engine.files.files import File\n",
    "from engine.helpers import write_file\n",
    "\n",
    "encoding = 'utf-8'\n",
    "\n",
    "def sanatize_bytes(bytes):\n",
    "\t# first_null = next( (index for index, byte in enumerate(bytes) if byte == 0 ), None )\n",
    "\t# if first_null is not None:\n",
    "\t# \ttrimmed = bytes[:first_null]\n",
    "\t# else:\n",
    "\t# \ttrimmed = bytes\n",
    "\n",
    "\tdecoded = bytes.decode(encoding, errors='replace')\n",
    "\treturn decoded\n",
    "\n",
    "label_mapping = {'ps': 'UPS', 'T': 'UPS'}\n",
    "def normalize_label(label):\n",
    "    if label in label_mapping:\n",
    "        return label_mapping[label]\n",
    "    return label\n",
    "\n",
    "\n",
    "jsonMeta = dict()\n",
    "\n",
    "for path in glob.glob('../data/audio/simpleCall2/*'):\n",
    "    if path.endswith('.wav'):\n",
    "        info = WavInfoReader(path)\n",
    "        with open(path, 'rb') as f:\n",
    "            lblChunk = info._find_chunk_data(b'LBL ', f, True)\n",
    "            if lblChunk == None:\n",
    "                lblChunk = info._find_chunk_data(b'TIME', f)\n",
    "\n",
    "            data_list = sanatize_bytes(lblChunk).split(\"\\r\\n\")\n",
    "            print(data_list)\n",
    "            data_list = list(filter(lambda item: len(item)>1, [i.split(\"\\t\") for i in data_list]))\n",
    "\n",
    "        labels = []\n",
    "        for entry in data_list:\n",
    "            # entry = data_list[index]\n",
    "            entry = [value.strip().replace(\"\\u0000\", '') for value in entry]\n",
    "            labels.append({\n",
    "                'start': float(entry[0])\n",
    "                , 'end': float(entry[1])\n",
    "                , 'sequence': normalize_label(entry[2])\n",
    "            })\n",
    "\n",
    "        jsonEntry = {\n",
    "            'audio': path[8:].replace('\\\\', '/') #remove ../data/\n",
    "            , 'duration': info.data.frame_count / info.fmt.sample_rate\n",
    "            , 'labels': labels\n",
    "            , 'label': 'none'\n",
    "        }\n",
    "\n",
    "        jsonMeta[File(path).p.stem] = jsonEntry\n",
    "\n",
    "write_file(f\"../data/audio/simpleCall2/metadata.json\", json.dumps(jsonMeta, indent=2))\n",
    "\n"
   ],
   "metadata": {
    "collapsed": false,
    "pycharm": {
     "name": "#%%\n"
    }
   }
  },
  {
   "cell_type": "markdown",
   "source": [
    "create split parts\n"
   ],
   "metadata": {
    "collapsed": false
   }
  },
  {
   "cell_type": "code",
   "source": [
    "import json\n",
    "from engine.helpers import write_file\n",
    "from engine.audio import load_audio\n",
    "from engine.metadata import metadata_db\n",
    "\n",
    "mdb = metadata_db('audio/simpleCall/metadata.json').db\n",
    "min_duration = 1\n",
    "for stem in mdb:\n",
    "    entry = mdb[stem]\n",
    "    for label in entry.labels:\n",
    "        min_duration = min(min_duration, label['end']- label['start'])\n",
    "\n",
    "print(min_duration)\n"
   ],
   "metadata": {
    "collapsed": false,
    "pycharm": {
     "name": "#%%\n"
    }
   },
   "execution_count": 8,
   "outputs": [
    {
     "name": "stdout",
     "output_type": "stream",
     "text": [
      "0.005200150000000001\n"
     ]
    }
   ]
  },
  {
   "cell_type": "code",
   "execution_count": null,
   "outputs": [],
   "source": [
    "load_audio(mdb, 'simple_call_2', 'audio/simpleCall').extract_label_parts('simple_call_2', True).create_spectrogram(sampling_rate=500000, x_pixels_per_sec=2000, height=512, window='Ham').run()\n"
   ],
   "metadata": {
    "collapsed": false,
    "pycharm": {
     "name": "#%%\n"
    }
   }
  },
  {
   "cell_type": "code",
   "execution_count": 20,
   "outputs": [
    {
     "name": "stdout",
     "output_type": "stream",
     "text": [
      "Loaded audio tracks from audio/simpleCall\n",
      "Already processed: audio\\simpleCall\\B2_C_B_Jt1_16_07_06_042.wav, audio\\simpleCall\\B2_C_TR_Jt1_16_06_02_018.wav, audio\\simpleCall\\B2_C_TR_Jt2_16_06_02_044.wav, ... (299 others)\n",
      "B_Jt1_16_07_06_ 3 2.412442\n",
      "TR_Jt1_16_06_02_ 10 87.71842000000001\n",
      "TR_Jt2_16_06_02_ 7 107.323002\n",
      "TR_Jt5_16_07_10_ 1 2.060072\n",
      "TO_Jt1_16_06_20_ 2 610.831744\n",
      "TO_Jt2_16_06_12_ 5 234.57691\n",
      "TO_Jt2_16_06_18_ 1 54.576832\n",
      "TO_Jt2_16_06_20_ 3 94.49250799999999\n",
      "TO_Jt2_16_06_24_ 5 75.769138\n",
      "TO_Jt2_16_06_25_ 1 121.62016\n",
      "TO_Jt2_16_06_26_ 10 396.75971599999997\n",
      "TO_Jt2_16_07_04_ 3 256.237478\n",
      "TO_Jt2_16_07_06_ 3 287.87870399999997\n",
      "TO_Jt3_16_06_18_ 4 117.320584\n",
      "TO_Jt3_16_06_20_ 1 38.71712\n",
      "TO_Jt3_16_06_24_ 3 105.581376\n",
      "TO_Jt3_16_07_04_ 3 182.228408\n",
      "TO_Jt3_16_07_06_ 6 401.626958\n",
      "TO_Jt3_16_07_09_ 1 59.950784\n",
      "TO_Jt3_16_07_11_ 9 436.971304\n",
      "TO_Jt3_16_07_13_ 1 302.8272\n",
      "TR_Jt1_16_06_07_ 5 315.80234599999994\n",
      "TR_Jt2_16_06_07_ 1 0.000806\n",
      "TR_Jt3_16_06_16_ 1 188.892864\n",
      "TR_Jt4_16_06_11_ 2 191.911696\n",
      "TR_Jt4_16_06_15_ 6 134.874446\n",
      "TR_Jt4_16_06_19_ 2 73.46089599999999\n",
      "TR_Jt4_16_06_23_ 1 343.525056\n",
      "TR_Jt4_16_06_25_ 1 84.133568\n",
      "TR_Jt4_16_07_07_ 1 49.170112\n",
      "TR_Jt4_16_07_10_ 3 102.913174\n",
      "TR_Jt5_16_06_15_ 3 131.12095399999998\n",
      "TR_Jt5_16_06_17_ 3 129.949032\n",
      "TR_Jt5_16_06_19_ 7 213.64256\n",
      "TR_Jt5_16_06_21_ 6 191.63492200000002\n",
      "TR_Jt5_16_06_23_ 3 159.396232\n",
      "TR_Jt5_16_06_27_ 1 86.951616\n",
      "TR_Jt5_16_07_12_ 5 405.31421599999993\n",
      "TR_Jt6_16_06_11_ 1 48.481984\n",
      "TR_Jt6_16_06_15_ 12 498.80555400000003\n",
      "TR_Jt6_16_06_19_ 5 350.760964\n",
      "TR_Jt6_16_06_23_ 4 359.315044\n",
      "TR_Jt6_16_07_12_ 3 231.32022000000003\n",
      "TR_Jt7_16_06_17_ 1 51.16896\n",
      "TR_Jt7_16_06_19_ 4 181.53124\n",
      "TR_Jt7_16_06_23_ 4 36.368936\n",
      "TR_Jt7_16_07_07_ 9 378.613264\n",
      "TR_Jt7_16_07_10_ 3 69.75353199999999\n",
      "TR_Jt7_16_07_12_ 2 217.190976\n",
      "TR_Jt8_16_06_11_ 5 146.641716\n",
      "TR_Jt8_16_06_15_ 1 49.006272\n",
      "TR_Jt8_16_06_17_ 1 50.546368\n",
      "TR_Jt8_16_06_19_ 2 96.341376\n",
      "TR_Jt8_16_07_07_ 1 234.964672\n",
      "TR_Jt8_16_07_12_ 1 127.68224\n",
      "TR_Jtx_16_07_12_ 1 404.375232\n",
      "B_Jto_16_07_06_ 1 0.7957\n",
      "B_Jt1_16_06_14_ 3 0.938864\n",
      "E1_Jt1_15_05_31_ 1 0.516216\n",
      "E1_Jt1_15_06_06_ 1 1.107288\n",
      "E1_Jt1_15_06_13_ 2 1.588182\n",
      "E1_Jt1_15_06_17_ 1 0.43104\n",
      "E1_Jt1_15_06_21_ 1 0.309952\n",
      "E1_Jt1_15_06_24_ 1 0.269198\n",
      "E1_Jt1_15_07_02_ 1 0.364088\n",
      "E1_Jt2_15_05_31_ 1 0.277888\n",
      "E1_Jt2_15_06_03_ 1 0.18262\n",
      "E1_Jt2_15_06_06_ 1 0.434532\n",
      "E1_Jt2_15_06_13_ 1 0.214054\n",
      "E1_Jt2_15_06_17_ 1 0.25404\n",
      "E1_Jt2_15_06_21_ 1 0.573648\n",
      "E1_Jt2_15_06_24_ 1 0.751224\n",
      "E1_Jt2_15_07_05_ 1 0.272376\n",
      "E3_Jt1_15_06_01_ 1 0.36049\n",
      "E3_Jt1_15_06_22_ 1 0.27713\n",
      "E3_Jt1_15_06_30_ 1 0.347578\n",
      "E3_Jt1_15_07_03_ 1 0.55936\n",
      "E3_Jt1_15_07_09_ 1 0.82159\n",
      "E3_Jt1_15_07_13_ 1 0.684684\n",
      "E3_Jt1_15_07_20_ 1 0.763944\n",
      "E3_Jt1_15_07_23_ 1 0.303534\n",
      "E3_Jt6_15_06_11_ 1 0.659946\n",
      "E3_Jt6_15_06_15_ 1 0.638946\n",
      "E3_Jt6_15_06_18_ 1 0.367524\n",
      "E3_Jt6_15_06_22_ 1 0.590808\n",
      "E3_Jt6_15_06_25_ 1 0.42789\n",
      "E3_Jt6_15_06_30_ 2 1.213728\n",
      "E3_Jt6_15_07_09_ 1 0.898722\n",
      "F1_Jt4_15_06_03_ 1 0.399396\n",
      "F1_Jt4_15_06_10_ 1 0.470016\n",
      "F1_Jt4_15_06_14_ 1 1.507572\n",
      "F1_Jt4_15_06_17_ 1 0.45255\n",
      "F1_Jt4_15_06_21_ 1 0.60918\n",
      "F1_Jt4_15_07_02_ 1 0.330144\n",
      "F1_Jt4_15_07_05_ 1 0.2644\n",
      "F1_Jt4_15_07_08_ 1 0.464656\n",
      "F1_Jt5_15_06_06_ 1 0.275268\n",
      "F1_Jt5_15_06_14_ 1 0.96924\n",
      "F1_Jt5_15_06_17_ 1 0.338668\n",
      "F1_Jt5_15_07_05_ 1 0.448476\n",
      "F1_Jt5_15_07_08_ 1 0.732992\n",
      "F1_Jt5_15_07_18_ 1 0.550864\n",
      "F1_Jt5_15_07_22_ 1 1.56016\n",
      "F1_Jt5_15_08_02_ 1 1.716738\n",
      "SL1_Jt1_15_05_27_ 2 0.716502\n",
      "SL1_Jt1_15_06_04_ 2 0.798032\n",
      "SL1_Jt1_15_06_05_ 1 0.197392\n",
      "SL1_Jt1_15_06_12_ 2 1.698916\n",
      "SL1_Jt2_15_06_25_ 1 0.510736\n",
      "SL1_Jt2_15_06_30_ 1 0.325974\n",
      "SL1_Jt2_15_07_03_ 1 0.654164\n",
      "SL1_Jt2_15_07_06_ 1 0.443304\n",
      "SL1_Jt2_15_07_13_ 1 0.54201\n",
      "SL1_Jt2_15_07_16_ 1 0.30208\n",
      "SL1_Jt2_15_07_26_ 1 0.429652\n",
      "SL1_Jt2_15_08_02_ 1 0.66432\n",
      "SL2_JT2_15_06_23_ 1 0.605472\n",
      "SL2_Jt1_15_06_05_ 1 0.828296\n",
      "SL2_Jt1_15_06_09_ 1 0.268992\n",
      "SL2_Jt1_15_06_16_ 1 0.440896\n",
      "SL2_Jt1_15_06_20_ 1 1.61675\n",
      "SL2_Jt1_15_07_01_ 1 0.671676\n",
      "SL2_Jt1_15_07_04_ 1 0.6358\n",
      "SL2_Jt1_15_07_07_ 2 1.3378679999999998\n",
      "SL2_Jt2_15_06_05_ 2 1.807518\n",
      "SL2_Jt2_15_06_13_ 1 0.34505\n",
      "SL2_Jt2_15_07_04_ 1 1.3824\n",
      "SL2_Jt2_15_07_10_ 1 0.761346\n",
      "SL2_Jt2_15_07_17_ 2 2.308428\n",
      "TO_Jt1_16_06_26_ 2 3.950252\n",
      "TO_JT3_16_07_06_ 1 0.247632\n",
      "TO_Jt2_16_07_23_ 1 0.30324\n",
      "TR_JT2_16_06_02_ 1 0.113568\n",
      "TR_Jt6_16_07_16_ 1 0.213786\n",
      "TR_Jt7_16_07_20_ 4 0.72929\n",
      "B_Jt1_16_06_26_ 1 0.100104\n",
      "B_Jt1_16_07_13_ 1 0.187036\n",
      "B_Jt1_16_07_17_ 3 0.601916\n",
      "B_Jt3_16_06_22_ 2 0.303396\n",
      "B_Jt3_16_07_11_ 1 0.257114\n",
      "B_Jto_16_07_04_ 3 1.819114\n",
      "TO_Jt3_16_07_23_ 1 0.20349\n",
      "TR_Jt5_16_07_20_ 1 0.154804\n",
      "B_Jt1_16_06_10_ 2 0.30412\n",
      "B_Jt3_16_06_14_ 1 0.3384\n"
     ]
    }
   ],
   "source": [
    "import re\n",
    "from collections import defaultdict\n",
    "\n",
    "task = load_audio(mdb, 'simple_call_2', 'audio/simpleCall2').run()\n",
    "index = defaultdict(list)\n",
    "p = re.compile('(([^_]*_){2}(\\d{2}_){3})(\\d*)')\n",
    "for file in task.files:\n",
    "    match = p.findall(file.p.stem)\n",
    "    key = match[0][0]\n",
    "    # key = file.p.stem.split(match[0][1])[0]\n",
    "    index[key].append(file)\n",
    "\n",
    "for key in index:\n",
    "    files = index[key]\n",
    "    duration = 0\n",
    "    for file in files:\n",
    "        duration += file.metadata.duration\n",
    "    print(key,len(files), duration)\n"
   ],
   "metadata": {
    "collapsed": false,
    "pycharm": {
     "name": "#%%\n"
    }
   }
  },
  {
   "cell_type": "code",
   "execution_count": 3,
   "outputs": [
    {
     "name": "stderr",
     "output_type": "stream",
     "text": [
      "Create spectrograms: 100%|██████████| 4/4 [00:01<00:00,  3.52it/s]\n"
     ]
    },
    {
     "name": "stdout",
     "output_type": "stream",
     "text": [
      "Loaded audio tracks from audio/simpleCall2\n",
      "Already processed: audio\\simpleCall2\\silent\\B_Jt1_16_07_06_combined.wav, audio\\simpleCall2\\silent\\B_Jt1_16_06_14_combined.wav, audio\\simpleCall2\\silent\\TR_Jt5_16_06_21_combined.wav, ... (1 others)\n",
      "Loaded audio tracks from audio/simpleCall2/silent\n",
      "Already processed: audio\\simpleCall2\\silent\\B_Jt1_16_06_14_combined.wav, audio\\simpleCall2\\silent\\B_Jt1_16_07_06_combined.wav, audio\\simpleCall2\\silent\\TR_Jt5_16_06_21_combined.wav, ... (1 others)\n"
     ]
    },
    {
     "data": {
      "text/plain": "<engine.spectrograms.SpectrogramFileList at 0x2b640ad5070>"
     },
     "execution_count": 3,
     "metadata": {},
     "output_type": "execute_result"
    }
   ],
   "source": [
    "# load_audio(mdb, 'simple_call_2', 'audio/simpleCall2').create_spectrogram(sampling_rate=500000, x_pixels_per_sec=2000, height=265, window='Ham').run()\n",
    "\n",
    "list = load_audio(mdb, 'simple_call_2', 'audio/simpleCall2').create_silent_derivatives(.2).run()\n",
    "for file in list.files:\n",
    "    mdb.db[file.p.stem] = dict()\n",
    "\n",
    "load_audio(mdb, 'simple_call_2', 'audio/simpleCall2/silent').create_spectrogram(sampling_rate=500000, x_pixels_per_sec=2000, height=265, window='Ham').run()"
   ],
   "metadata": {
    "collapsed": false,
    "pycharm": {
     "name": "#%%\n"
    }
   }
  }
 ],
 "metadata": {
  "kernelspec": {
   "display_name": "Python 3",
   "language": "python",
   "name": "python3"
  },
  "language_info": {
   "codemirror_mode": {
    "name": "ipython",
    "version": 2
   },
   "file_extension": ".py",
   "mimetype": "text/x-python",
   "name": "python",
   "nbconvert_exporter": "python",
   "pygments_lexer": "ipython2",
   "version": "2.7.6"
  }
 },
 "nbformat": 4,
 "nbformat_minor": 0
}
