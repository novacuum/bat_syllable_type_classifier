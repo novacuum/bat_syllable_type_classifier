{
 "cells": [
  {
   "cell_type": "markdown",
   "source": [
    "# «Simple call seq» Report\n",
    "\n",
    "Report for the \"simple_call_seq\" dataset (all included labels have at least 124 samples).\n",
    "This test includes cnn 1d and 2d, lstm, each with image and hog features.\n",
    "\n",
    " - label extracting config: start/end with 10ms padding\n",
    " - hog config: ??\n",
    " - spectrogram config: sampling_rate=500000, width=100 window='Ham'\n",
    "\n",
    "K-Fold with K=8 for 2762+406+124+162+149+148+591 samples, 8 bins of 15+15+15+15+15+15+15 and a remainder of 2642+286+4+42+29+28+471, for each fold: 4027 training, 105 validation, and 210 testing samples\n",
    " - val-bins: 1\n",
    " - test-bins: 2"
   ],
   "metadata": {
    "collapsed": false
   }
  },
  {
   "cell_type": "code",
   "execution_count": null,
   "outputs": [],
   "source": [
    "import glob\n",
    "from IPython.display import display\n",
    "from engine.settings import BSC_ROOT_DATA_FOLDER\n",
    "from matplotlib import pyplot as plt\n",
    "from utils.report import create_sorted_result\n",
    "\n",
    "bin_size = 15\n",
    "labels = ['B2', 'B3', 'B4', 'VS', 'VSV', 'UPS', 'none']\n",
    "sorted_results = create_sorted_result('testing_scs_all2')[0:30]"
   ],
   "metadata": {
    "collapsed": false,
    "pycharm": {
     "name": "#%%\n"
    }
   }
  },
  {
   "cell_type": "markdown",
   "source": [
    "## Results of the audio transforms (spectrograms)\n",
    "\n",
    "20 randomly taken samples per label"
   ],
   "metadata": {
    "collapsed": false
   }
  },
  {
   "cell_type": "code",
   "execution_count": null,
   "outputs": [],
   "source": [
    "from utils.report import create_spectrogram_overview\n",
    "image_paths = glob.glob(str(BSC_ROOT_DATA_FOLDER / 'simple_call_seq' / 'audio' / '*' /'sr500000_xpps2000_h300_wHam') + '/*.png')\n",
    "create_spectrogram_overview(image_paths, labels, bin_size)"
   ],
   "metadata": {
    "collapsed": false,
    "pycharm": {
     "name": "#%%\n"
    }
   }
  },
  {
   "cell_type": "markdown",
   "source": [
    "## Overview about the models\n",
    "\n",
    "Kfold results over every model type"
   ],
   "metadata": {
    "collapsed": false
   }
  },
  {
   "cell_type": "code",
   "execution_count": null,
   "outputs": [],
   "source": [
    "from utils.report import create_model_overview\n",
    "create_model_overview(sorted_results)"
   ],
   "metadata": {
    "collapsed": false,
    "pycharm": {
     "name": "#%%\n"
    }
   }
  },
  {
   "cell_type": "markdown",
   "source": [
    "## Statistics\n",
    "\n",
    "- Error-plots train + valid\n",
    "- Confusion matrix per report per result"
   ],
   "metadata": {
    "collapsed": false
   }
  },
  {
   "cell_type": "code",
   "execution_count": null,
   "outputs": [],
   "source": [
    "from utils.report import create_statistics\n",
    "create_statistics(sorted_results)"
   ],
   "metadata": {
    "collapsed": false,
    "pycharm": {
     "name": "#%%\n"
    }
   }
  },
  {
   "cell_type": "markdown",
   "source": [
    "## identifies important pixels\n",
    "\n",
    "Layer-Wise Relevance Propagation with bounded deep taylor"
   ],
   "metadata": {
    "collapsed": false
   }
  },
  {
   "cell_type": "code",
   "execution_count": null,
   "outputs": [],
   "source": [
    "import os\n",
    "from utils.report import nn_cnn_2d_lrp\n",
    "\n",
    "for result in sorted_results:\n",
    "    recognizeBestAction = list(filter(lambda action: action['task'] == 'ParallelTask' and 'action' in action['props'] and action['props']['action'] == 'recognize_best_val_acc', result['pipeline']))\n",
    "    model_path = recognizeBestAction[0]['props']['kwargs']['model_path']\n",
    "    fig = nn_cnn_2d_lrp(os.path.dirname(model_path) + '/epoch_200.h5.json', 4)\n",
    "    display(fig)\n",
    "    fig.clear()\n",
    "    plt.close(fig)\n",
    "    break"
   ],
   "metadata": {
    "collapsed": false,
    "pycharm": {
     "name": "#%%\n"
    }
   }
  }
 ],
 "metadata": {
  "kernelspec": {
   "display_name": "Python 3",
   "language": "python",
   "name": "python3"
  },
  "language_info": {
   "codemirror_mode": {
    "name": "ipython",
    "version": 3
   },
   "file_extension": ".py",
   "mimetype": "text/x-python",
   "name": "python",
   "nbconvert_exporter": "python",
   "pygments_lexer": "ipython3",
   "version": "3.7.9"
  }
 },
 "nbformat": 4,
 "nbformat_minor": 1
}
